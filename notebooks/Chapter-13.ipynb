{
 "cells": [
  {
   "cell_type": "markdown",
   "metadata": {},
   "source": [
    "# Statistics\n",
    "\n",
    "Chapter 13"
   ]
  },
  {
   "cell_type": "markdown",
   "metadata": {},
   "source": [
    "*Statistics* -> field that uses data for obtaining knowledge and making decisions.\n",
    "\n",
    "*NumPy, SciPy* -> library that provide tools for fundamental statistics concepts.\n",
    "\n",
    "*statsmodels, scikit-learn* -> higher-level statistical modeling and machine learning.\n",
    "\n",
    "*SciPy* builds on top of *NumPy* with more specialized methods, distributions.\n",
    "\n"
   ]
  },
  {
   "cell_type": "markdown",
   "metadata": {},
   "source": [
    "## Importing Modules"
   ]
  },
  {
   "cell_type": "code",
   "execution_count": 10,
   "metadata": {},
   "outputs": [],
   "source": [
    "from scipy import stats, optimize\n",
    "import numpy as np\n",
    "import matplotlib.pyplot as plt\n",
    "\n",
    "import seaborn as sns\n",
    "sns.set(style=\"whitegrid\")"
   ]
  },
  {
   "cell_type": "markdown",
   "metadata": {},
   "source": [
    "## Review of Statistics and Probability\n",
    "\n",
    "Statistics deals with *collection* and *analysis* of data.\n",
    "\n",
    "**Objective:** get insights, draw conclusions and supports decision-making.\n",
    "\n",
    "Necessary when have incomplete information about a phenomenom.\n",
    "\n",
    "*Incomplete information* -> unable to collect all data\n",
    "\n",
    "*Random samples* -> possible make inferences about properties\n",
    "\n",
    "*Statistical methods* -> uses foundation of probability theory.\n",
    "\n",
    "*Probability theory foundation* -> each outcome for a observation have a probability. \n",
    "\n",
    "*Probability distribution* -> all observations outcomes\n",
    "\n",
    "With probability distribution is possible compute properties, such mean and variance.\n",
    "\n",
    "*Random samples* only known the *expected* (average results)\n",
    "\n",
    "\n"
   ]
  },
  {
   "cell_type": "code",
   "execution_count": 11,
   "metadata": {},
   "outputs": [
    {
     "data": {
      "text/plain": [
       "3.1"
      ]
     },
     "execution_count": 11,
     "metadata": {},
     "output_type": "execute_result"
    }
   ],
   "source": [
    "x = np.array([3.5, 1.1, 3.2, 2.8, 6.7, 4.4, 0.9, 2.2])\n",
    "np.mean(x)"
   ]
  },
  {
   "cell_type": "code",
   "execution_count": 12,
   "metadata": {},
   "outputs": [
    {
     "data": {
      "text/plain": [
       "3.0"
      ]
     },
     "execution_count": 12,
     "metadata": {},
     "output_type": "execute_result"
    }
   ],
   "source": [
    "np.median(x)"
   ]
  },
  {
   "cell_type": "code",
   "execution_count": 13,
   "metadata": {},
   "outputs": [
    {
     "data": {
      "text/plain": [
       "(0.9, 6.7)"
      ]
     },
     "execution_count": 13,
     "metadata": {},
     "output_type": "execute_result"
    }
   ],
   "source": [
    "x.min(), x.max()"
   ]
  },
  {
   "cell_type": "markdown",
   "metadata": {},
   "source": [
    "to compute *variance* and *standard deviation* for entire dataset:\n",
    "\n",
    "variance -> np.var()\n",
    "\n",
    "standard deviation -> np.std()"
   ]
  },
  {
   "cell_type": "code",
   "execution_count": 14,
   "metadata": {},
   "outputs": [
    {
     "data": {
      "text/plain": [
       "(3.0700000000000007, 1.7521415467935233)"
      ]
     },
     "execution_count": 14,
     "metadata": {},
     "output_type": "execute_result"
    }
   ],
   "source": [
    "x.var(), x.std()"
   ]
  },
  {
   "cell_type": "markdown",
   "metadata": {},
   "source": [
    "the argument **ddof**(delta degrees of freedom) is the number of elements in the array minus ddof.\n",
    "\n",
    "to calculate the standard deviation from a sample, set *ddof* value:"
   ]
  },
  {
   "cell_type": "code",
   "execution_count": 9,
   "metadata": {},
   "outputs": [
    {
     "data": {
      "text/plain": [
       "(3.5085714285714293, 1.8731181032095732)"
      ]
     },
     "execution_count": 9,
     "metadata": {},
     "output_type": "execute_result"
    }
   ],
   "source": [
    "x.var(ddof=1), x.std(ddof=1)"
   ]
  },
  {
   "cell_type": "markdown",
   "metadata": {},
   "source": [
    "## Random Numbers\n",
    "\n",
    "Python have *random* module. NumPy have too, but better (more advanced distributions).\n",
    "\n",
    "*scipy.stats* is another class, build on top of NumPy (better i think).\n",
    "\n",
    "some functions:\n",
    "\n",
    "*np.randn()* -> generates numbers distributed acording to the *standard normal deviation* (mean 0 and standart deviation 1)\n",
    "\n",
    "*np.randint()* -> yes...generates **uniformly** distributed integer values (have low(inclusive) and high(exclusive) parameters)\n",
    "\n",
    "When functions called without arguments -> return single random number:"
   ]
  },
  {
   "cell_type": "code",
   "execution_count": 15,
   "metadata": {},
   "outputs": [
    {
     "data": {
      "text/plain": [
       "(0.3948894088760486, -1.8877248254773178)"
      ]
     },
     "execution_count": 15,
     "metadata": {},
     "output_type": "execute_result"
    }
   ],
   "source": [
    "np.random.rand(), np.random.randn()"
   ]
  },
  {
   "cell_type": "markdown",
   "metadata": {},
   "source": [
    "passing parameters can give an array:"
   ]
  },
  {
   "cell_type": "code",
   "execution_count": 16,
   "metadata": {},
   "outputs": [
    {
     "data": {
      "text/plain": [
       "array([0.99815458, 0.74282416, 0.26253225, 0.66811161, 0.80635967])"
      ]
     },
     "execution_count": 16,
     "metadata": {},
     "output_type": "execute_result"
    }
   ],
   "source": [
    "np.random.rand(5)"
   ]
  },
  {
   "cell_type": "code",
   "execution_count": 17,
   "metadata": {},
   "outputs": [
    {
     "data": {
      "text/plain": [
       "array([[ 0.1983453 , -1.16205359, -0.52386161, -1.30815135],\n",
       "       [ 0.81203016, -1.26825432, -1.22092651, -0.92924362]])"
      ]
     },
     "execution_count": 17,
     "metadata": {},
     "output_type": "execute_result"
    }
   ],
   "source": [
    "np.random.randn(2, 4)"
   ]
  },
  {
   "cell_type": "markdown",
   "metadata": {},
   "source": [
    "to generate random integers, need provide high limit (lower implicitly 0)\n",
    "\n",
    "*size* parameter -> integer or tuple that specifies shape"
   ]
  },
  {
   "cell_type": "code",
   "execution_count": 26,
   "metadata": {},
   "outputs": [
    {
     "data": {
      "text/plain": [
       "(array([6, 4, 5, 1, 2, 7, 7, 7, 5, 5]),\n",
       " array([[13, 17, 11, 10, 18, 16, 19, 18, 11, 13],\n",
       "        [16, 13, 19, 11, 10, 12, 15, 13, 14, 10]]))"
      ]
     },
     "execution_count": 26,
     "metadata": {},
     "output_type": "execute_result"
    }
   ],
   "source": [
    "np.random.randint(10, size=10), np.random.randint(10, 20, size=(2, 10))"
   ]
  },
  {
   "cell_type": "code",
   "execution_count": 32,
   "metadata": {},
   "outputs": [
    {
     "data": {
      "text/plain": [
       "[]"
      ]
     },
     "execution_count": 32,
     "metadata": {},
     "output_type": "execute_result"
    },
    {
     "data": {
      "image/png": "[encoded data removed]",
      "text/plain": [
       "<Figure size 864x216 with 3 Axes>"
      ]
     },
     "metadata": {},
     "output_type": "display_data"
    }
   ],
   "source": [
    "fig, axes = plt.subplots(1, 3, figsize=(12, 3))\n",
    "\n",
    "axes[0].hist(np.random.rand(10000))\n",
    "axes[0].set_title(\"rand\")\n",
    "\n",
    "axes[1].hist(np.random.randn(10000))\n",
    "axes[1].set_title(\"randn\")\n",
    "\n",
    "axes[2].hist(np.random.randint(1, 10, size=10000), bins=9, align='left')\n",
    "axes[2].set_title(\"randint\")\n",
    "plt.plot()"
   ]
  },
  {
   "cell_type": "markdown",
   "metadata": {},
   "source": [
    "*rand and randint* is uniform with different values.\n",
    "\n",
    "*randn* resemble Gaussian curve centered at zero"
   ]
  },
  {
   "cell_type": "code",
   "execution_count": null,
   "metadata": {},
   "outputs": [],
   "source": []
  }
 ],
 "metadata": {
  "kernelspec": {
   "display_name": "Python 3",
   "language": "python",
   "name": "python3"
  },
  "language_info": {
   "codemirror_mode": {
    "name": "ipython",
    "version": 3
   },
   "file_extension": ".py",
   "mimetype": "text/x-python",
   "name": "python",
   "nbconvert_exporter": "python",
   "pygments_lexer": "ipython3",
   "version": "3.7.7"
  }
 },
 "nbformat": 4,
 "nbformat_minor": 4
}
